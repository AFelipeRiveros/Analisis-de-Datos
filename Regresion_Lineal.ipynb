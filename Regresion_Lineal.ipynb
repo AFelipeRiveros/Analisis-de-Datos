{
 "cells": [
  {
   "cell_type": "markdown",
   "id": "b61aff6b-be36-48b0-a5b5-c87054f2b3f7",
   "metadata": {
    "tags": []
   },
   "source": [
    "**EJERCICIO DE REGRESION LINEAL**"
   ]
  },
  {
   "cell_type": "code",
   "execution_count": 2,
   "id": "f9525938-9d3d-4318-863b-1a9592e7b445",
   "metadata": {
    "tags": []
   },
   "outputs": [],
   "source": [
    "# Cargamos a nuestro entorno de trabajo las librerias necesarias.\n",
    "\n",
    "import matplotlib.pyplot as plt\n",
    "from sklearn import linear_model # usando sklear para saber los valores optimos\n",
    "import seaborn as sns\n",
    "import numpy as np\n",
    "import pandas as pd"
   ]
  },
  {
   "cell_type": "code",
   "execution_count": 3,
   "id": "c77579b1-4d8d-410f-95be-d3c5773cb5fe",
   "metadata": {
    "tags": []
   },
   "outputs": [],
   "source": [
    "# Cargamos la información del CSV en una variable llamada data\n",
    "data = pd.read_csv(\"C:/Users/afeli/Documents/UNAD/UNAD/2023-II/Analisis de Datos/Etapa 2/archive lineal/data.csv\", sep=\",\")"
   ]
  },
  {
   "cell_type": "code",
   "execution_count": 4,
   "id": "085fcbc2",
   "metadata": {},
   "outputs": [
    {
     "data": {
      "text/html": [
       "<div>\n",
       "<style scoped>\n",
       "    .dataframe tbody tr th:only-of-type {\n",
       "        vertical-align: middle;\n",
       "    }\n",
       "\n",
       "    .dataframe tbody tr th {\n",
       "        vertical-align: top;\n",
       "    }\n",
       "\n",
       "    .dataframe thead th {\n",
       "        text-align: right;\n",
       "    }\n",
       "</style>\n",
       "<table border=\"1\" class=\"dataframe\">\n",
       "  <thead>\n",
       "    <tr style=\"text-align: right;\">\n",
       "      <th></th>\n",
       "      <th>metro</th>\n",
       "      <th>precio</th>\n",
       "    </tr>\n",
       "  </thead>\n",
       "  <tbody>\n",
       "    <tr>\n",
       "      <th>0</th>\n",
       "      <td>5</td>\n",
       "      <td>375</td>\n",
       "    </tr>\n",
       "    <tr>\n",
       "      <th>1</th>\n",
       "      <td>15</td>\n",
       "      <td>487</td>\n",
       "    </tr>\n",
       "    <tr>\n",
       "      <th>2</th>\n",
       "      <td>20</td>\n",
       "      <td>450</td>\n",
       "    </tr>\n",
       "    <tr>\n",
       "      <th>3</th>\n",
       "      <td>25</td>\n",
       "      <td>500</td>\n",
       "    </tr>\n",
       "  </tbody>\n",
       "</table>\n",
       "</div>"
      ],
      "text/plain": [
       "   metro  precio\n",
       "0      5     375\n",
       "1     15     487\n",
       "2     20     450\n",
       "3     25     500"
      ]
     },
     "execution_count": 4,
     "metadata": {},
     "output_type": "execute_result"
    }
   ],
   "source": [
    "# Ejecutamos la variable data para mostrar la información cargada\n",
    "data"
   ]
  },
  {
   "cell_type": "code",
   "execution_count": 5,
   "id": "0e32ec08",
   "metadata": {},
   "outputs": [
    {
     "data": {
      "text/plain": [
       "array([ 5, 15, 20, 25], dtype=int64)"
      ]
     },
     "execution_count": 5,
     "metadata": {},
     "output_type": "execute_result"
    }
   ],
   "source": [
    "# Creamos un array con los valores de la columna \"metro\", este se ubicara en el eje x por lo que lo almacenamos en la variable x\n",
    "x = data.metro.values\n",
    "\n",
    "# Mostramos el array creado\n",
    "x"
   ]
  },
  {
   "cell_type": "code",
   "execution_count": 6,
   "id": "2cad5fd1",
   "metadata": {},
   "outputs": [
    {
     "data": {
      "text/plain": [
       "array([375, 487, 450, 500], dtype=int64)"
      ]
     },
     "execution_count": 6,
     "metadata": {},
     "output_type": "execute_result"
    }
   ],
   "source": [
    "# Creamos un array con los valores de la columna \"precio\", este se ubicara en el eje y por lo que lo almacenamos en la variable y\n",
    "y = data.precio.values\n",
    "\n",
    "# Mostramos el array creado\n",
    "y"
   ]
  },
  {
   "cell_type": "code",
   "execution_count": 7,
   "id": "d839cfe1",
   "metadata": {},
   "outputs": [
    {
     "data": {
      "text/plain": [
       "array([[ 5],\n",
       "       [15],\n",
       "       [20],\n",
       "       [25]], dtype=int64)"
      ]
     },
     "execution_count": 7,
     "metadata": {},
     "output_type": "execute_result"
    }
   ],
   "source": [
    "# Damos formato de 1D al array de metro para poder crear la regresion\n",
    "x = x.reshape(-1,1)\n",
    "\n",
    "# Mostramos el array X que contiene los datos para el metro\n",
    "x"
   ]
  },
  {
   "cell_type": "code",
   "execution_count": 8,
   "id": "39a79da9",
   "metadata": {},
   "outputs": [
    {
     "data": {
      "text/plain": [
       "array([[375],\n",
       "       [487],\n",
       "       [450],\n",
       "       [500]], dtype=int64)"
      ]
     },
     "execution_count": 8,
     "metadata": {},
     "output_type": "execute_result"
    }
   ],
   "source": [
    "# Damos formato de 1D al array de precio para poder crear la regresion\n",
    "y = y.reshape(-1,1)\n",
    "\n",
    "# Mostramos el array Y que contiene los datos para el precio\n",
    "y"
   ]
  },
  {
   "cell_type": "code",
   "execution_count": 9,
   "id": "50760c85",
   "metadata": {},
   "outputs": [
    {
     "data": {
      "text/html": [
       "<style>#sk-container-id-1 {color: black;}#sk-container-id-1 pre{padding: 0;}#sk-container-id-1 div.sk-toggleable {background-color: white;}#sk-container-id-1 label.sk-toggleable__label {cursor: pointer;display: block;width: 100%;margin-bottom: 0;padding: 0.3em;box-sizing: border-box;text-align: center;}#sk-container-id-1 label.sk-toggleable__label-arrow:before {content: \"▸\";float: left;margin-right: 0.25em;color: #696969;}#sk-container-id-1 label.sk-toggleable__label-arrow:hover:before {color: black;}#sk-container-id-1 div.sk-estimator:hover label.sk-toggleable__label-arrow:before {color: black;}#sk-container-id-1 div.sk-toggleable__content {max-height: 0;max-width: 0;overflow: hidden;text-align: left;background-color: #f0f8ff;}#sk-container-id-1 div.sk-toggleable__content pre {margin: 0.2em;color: black;border-radius: 0.25em;background-color: #f0f8ff;}#sk-container-id-1 input.sk-toggleable__control:checked~div.sk-toggleable__content {max-height: 200px;max-width: 100%;overflow: auto;}#sk-container-id-1 input.sk-toggleable__control:checked~label.sk-toggleable__label-arrow:before {content: \"▾\";}#sk-container-id-1 div.sk-estimator input.sk-toggleable__control:checked~label.sk-toggleable__label {background-color: #d4ebff;}#sk-container-id-1 div.sk-label input.sk-toggleable__control:checked~label.sk-toggleable__label {background-color: #d4ebff;}#sk-container-id-1 input.sk-hidden--visually {border: 0;clip: rect(1px 1px 1px 1px);clip: rect(1px, 1px, 1px, 1px);height: 1px;margin: -1px;overflow: hidden;padding: 0;position: absolute;width: 1px;}#sk-container-id-1 div.sk-estimator {font-family: monospace;background-color: #f0f8ff;border: 1px dotted black;border-radius: 0.25em;box-sizing: border-box;margin-bottom: 0.5em;}#sk-container-id-1 div.sk-estimator:hover {background-color: #d4ebff;}#sk-container-id-1 div.sk-parallel-item::after {content: \"\";width: 100%;border-bottom: 1px solid gray;flex-grow: 1;}#sk-container-id-1 div.sk-label:hover label.sk-toggleable__label {background-color: #d4ebff;}#sk-container-id-1 div.sk-serial::before {content: \"\";position: absolute;border-left: 1px solid gray;box-sizing: border-box;top: 0;bottom: 0;left: 50%;z-index: 0;}#sk-container-id-1 div.sk-serial {display: flex;flex-direction: column;align-items: center;background-color: white;padding-right: 0.2em;padding-left: 0.2em;position: relative;}#sk-container-id-1 div.sk-item {position: relative;z-index: 1;}#sk-container-id-1 div.sk-parallel {display: flex;align-items: stretch;justify-content: center;background-color: white;position: relative;}#sk-container-id-1 div.sk-item::before, #sk-container-id-1 div.sk-parallel-item::before {content: \"\";position: absolute;border-left: 1px solid gray;box-sizing: border-box;top: 0;bottom: 0;left: 50%;z-index: -1;}#sk-container-id-1 div.sk-parallel-item {display: flex;flex-direction: column;z-index: 1;position: relative;background-color: white;}#sk-container-id-1 div.sk-parallel-item:first-child::after {align-self: flex-end;width: 50%;}#sk-container-id-1 div.sk-parallel-item:last-child::after {align-self: flex-start;width: 50%;}#sk-container-id-1 div.sk-parallel-item:only-child::after {width: 0;}#sk-container-id-1 div.sk-dashed-wrapped {border: 1px dashed gray;margin: 0 0.4em 0.5em 0.4em;box-sizing: border-box;padding-bottom: 0.4em;background-color: white;}#sk-container-id-1 div.sk-label label {font-family: monospace;font-weight: bold;display: inline-block;line-height: 1.2em;}#sk-container-id-1 div.sk-label-container {text-align: center;}#sk-container-id-1 div.sk-container {/* jupyter's `normalize.less` sets `[hidden] { display: none; }` but bootstrap.min.css set `[hidden] { display: none !important; }` so we also need the `!important` here to be able to override the default hidden behavior on the sphinx rendered scikit-learn.org. See: https://github.com/scikit-learn/scikit-learn/issues/21755 */display: inline-block !important;position: relative;}#sk-container-id-1 div.sk-text-repr-fallback {display: none;}</style><div id=\"sk-container-id-1\" class=\"sk-top-container\"><div class=\"sk-text-repr-fallback\"><pre>LinearRegression()</pre><b>In a Jupyter environment, please rerun this cell to show the HTML representation or trust the notebook. <br />On GitHub, the HTML representation is unable to render, please try loading this page with nbviewer.org.</b></div><div class=\"sk-container\" hidden><div class=\"sk-item\"><div class=\"sk-estimator sk-toggleable\"><input class=\"sk-toggleable__control sk-hidden--visually\" id=\"sk-estimator-id-1\" type=\"checkbox\" checked><label for=\"sk-estimator-id-1\" class=\"sk-toggleable__label sk-toggleable__label-arrow\">LinearRegression</label><div class=\"sk-toggleable__content\"><pre>LinearRegression()</pre></div></div></div></div></div>"
      ],
      "text/plain": [
       "LinearRegression()"
      ]
     },
     "execution_count": 9,
     "metadata": {},
     "output_type": "execute_result"
    }
   ],
   "source": [
    "# Creamos la regresion lineal\n",
    "regresion = linear_model.LinearRegression()\n",
    "\n",
    "# Definimos el modelo de regresion lineal con los arrays creados para el eje X y Y\n",
    "regresion.fit(x,y)"
   ]
  },
  {
   "cell_type": "markdown",
   "id": "54d07dab",
   "metadata": {},
   "source": [
    "**Determinamos los valores para las variables w y b, que corresponden a la pendiente y la intersección en la formula de regresion lineal (y = wx + b)**"
   ]
  },
  {
   "cell_type": "code",
   "execution_count": 17,
   "id": "c9597815",
   "metadata": {},
   "outputs": [
    {
     "name": "stdout",
     "output_type": "stream",
     "text": [
      "Pendiente (w): [[5.64571429]]\n",
      "Intersección (b): [361.25714286]\n"
     ]
    }
   ],
   "source": [
    "# Determinanos el valor de la pendiente (w).\n",
    "print( \"Pendiente (w):\",regresion.coef_)\n",
    "\n",
    "# Determinamos el valor de la intersección (b)\n",
    "print( \"Intersección (b):\",regresion.intercept_)"
   ]
  },
  {
   "cell_type": "code",
   "execution_count": 18,
   "id": "d99c40c3",
   "metadata": {},
   "outputs": [
    {
     "data": {
      "text/plain": [
       "array([[389.48571429],\n",
       "       [417.71428571],\n",
       "       [445.94285714],\n",
       "       [474.17142857]])"
      ]
     },
     "execution_count": 18,
     "metadata": {},
     "output_type": "execute_result"
    }
   ],
   "source": [
    "# Generanmos la entrada que vamos a pasar en las predicciones, esta entrada es para puntos especificos los cuales tomamos del campo metro de la data\n",
    "entrada = [[5],[10],[15],[20]]\n",
    "\n",
    "# Realizamos las precciones a partir del modelo de regresion lineal y la entrada que definimos\n",
    "predicciones = regresion.predict(entrada)\n",
    "\n",
    "# Mostramos las prediciones para cada punto de la entrada.\n",
    "predicciones"
   ]
  },
  {
   "cell_type": "markdown",
   "id": "e010df7d",
   "metadata": {},
   "source": [
    "**Creamos el grafico de dispersion con la regresion lineal creada**"
   ]
  },
  {
   "cell_type": "code",
   "execution_count": 19,
   "id": "5c3872b9",
   "metadata": {},
   "outputs": [
    {
     "data": {
      "image/png": "[encoded data removed]",
      "text/plain": [
       "<Figure size 640x480 with 1 Axes>"
      ]
     },
     "metadata": {},
     "output_type": "display_data"
    }
   ],
   "source": [
    "# Pasamos las etiquetas para referenciar los datos\n",
    "data.plot.scatter(x=\"metro\", y=\"precio\", label=\"Datos\")\n",
    "\n",
    "# Dibujamos los puntos de la recta que son tomados de las predicciones realizadas según la entrada dada anteriormente\n",
    "plt.scatter(entrada, predicciones, color=\"red\")\n",
    "\n",
    "# Trazamos la recta de la regresion lineal que pasa por los puntos de predicción\n",
    "plt.plot(entrada, predicciones, color='gray', label='Regresion')\n",
    "\n",
    "# Etiquetas del grafico en general\n",
    "plt.title(\"Grafica de Regresion Lineal\")\n",
    "plt.xlabel(\"Metro\")\n",
    "plt.ylabel(\"Precio\")\n",
    "\n",
    "# Muestra el grafico creado\n",
    "plt.show()"
   ]
  },
  {
   "cell_type": "markdown",
   "id": "98e620b8",
   "metadata": {},
   "source": [
    "**Conclusiones**\n",
    "\n",
    "1. La relacion entre las variables precio y metro es ascendente, esto quiere decir que a mayor cantidad de metros mayor será el precio de estos.\n",
    "\n",
    "2. Según el valor de la pendiente, podemos determinar que por cada metro el precio aumenta en 5.6. \n",
    "\n",
    "3. Las predicciones realizadas por cada metro dado en el dataset, corroboran que a mayor cantidad de metro, mayor precio."
   ]
  }
 ],
 "metadata": {
  "kernelspec": {
   "display_name": "Python 3 (ipykernel)",
   "language": "python",
   "name": "python3"
  },
  "language_info": {
   "codemirror_mode": {
    "name": "ipython",
    "version": 3
   },
   "file_extension": ".py",
   "mimetype": "text/x-python",
   "name": "python",
   "nbconvert_exporter": "python",
   "pygments_lexer": "ipython3",
   "version": "3.11.4"
  }
 },
 "nbformat": 4,
 "nbformat_minor": 5
}

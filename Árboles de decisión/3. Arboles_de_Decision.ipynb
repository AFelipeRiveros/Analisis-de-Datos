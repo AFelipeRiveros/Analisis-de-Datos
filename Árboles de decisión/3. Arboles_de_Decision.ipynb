{
 "cells": [
  {
   "cell_type": "markdown",
   "id": "b61aff6b-be36-48b0-a5b5-c87054f2b3f7",
   "metadata": {
    "tags": []
   },
   "source": [
    "**EJERCICIO ÁRBOLES DE DECISIÓN**"
   ]
  },
  {
   "cell_type": "code",
   "execution_count": 1,
   "id": "f9525938-9d3d-4318-863b-1a9592e7b445",
   "metadata": {
    "tags": []
   },
   "outputs": [],
   "source": [
    "# Cargamos a nuestro entorno de trabajo las librerías necesarias.\n",
    "\n",
    "import pandas as pd\n",
    "import numpy as np\n",
    "import matplotlib.pyplot as plt\n",
    "from sklearn.model_selection import train_test_split\n",
    "from sklearn.tree import DecisionTreeClassifier, plot_tree\n",
    "from sklearn.metrics import accuracy_score"
   ]
  },
  {
   "cell_type": "code",
   "execution_count": 2,
   "id": "c77579b1-4d8d-410f-95be-d3c5773cb5fe",
   "metadata": {
    "tags": []
   },
   "outputs": [],
   "source": [
    "# Cargamos la información del CSV en una variable llamada data\n",
    "data = pd.read_csv(\"C:/Users/afeli/Documents/UNAD/UNAD/2023-II/Analisis de Datos/Etapa 2/archive arboles/wine.data\", sep=\",\")"
   ]
  },
  {
   "cell_type": "code",
   "execution_count": 7,
   "id": "085fcbc2",
   "metadata": {},
   "outputs": [
    {
     "data": {
      "text/html": [
       "<div>\n",
       "<style scoped>\n",
       "    .dataframe tbody tr th:only-of-type {\n",
       "        vertical-align: middle;\n",
       "    }\n",
       "\n",
       "    .dataframe tbody tr th {\n",
       "        vertical-align: top;\n",
       "    }\n",
       "\n",
       "    .dataframe thead th {\n",
       "        text-align: right;\n",
       "    }\n",
       "</style>\n",
       "<table border=\"1\" class=\"dataframe\">\n",
       "  <thead>\n",
       "    <tr style=\"text-align: right;\">\n",
       "      <th></th>\n",
       "      <th>Class</th>\n",
       "      <th>Alcohol</th>\n",
       "      <th>Malic acid</th>\n",
       "      <th>Ash</th>\n",
       "      <th>Alcalinity of ash</th>\n",
       "      <th>Magnesium</th>\n",
       "      <th>Total phenols</th>\n",
       "      <th>Flavanoids</th>\n",
       "      <th>Nonflavanoid phenols</th>\n",
       "      <th>Proanthocyanins</th>\n",
       "      <th>Color intensity</th>\n",
       "      <th>Hue</th>\n",
       "      <th>OD280/OD315 of diluted wines</th>\n",
       "      <th>Proline</th>\n",
       "    </tr>\n",
       "  </thead>\n",
       "  <tbody>\n",
       "    <tr>\n",
       "      <th>0</th>\n",
       "      <td>1</td>\n",
       "      <td>13.20</td>\n",
       "      <td>1.78</td>\n",
       "      <td>2.14</td>\n",
       "      <td>11.2</td>\n",
       "      <td>100</td>\n",
       "      <td>2.65</td>\n",
       "      <td>2.76</td>\n",
       "      <td>0.26</td>\n",
       "      <td>1.28</td>\n",
       "      <td>4.38</td>\n",
       "      <td>1.05</td>\n",
       "      <td>3.40</td>\n",
       "      <td>1050</td>\n",
       "    </tr>\n",
       "    <tr>\n",
       "      <th>1</th>\n",
       "      <td>1</td>\n",
       "      <td>13.16</td>\n",
       "      <td>2.36</td>\n",
       "      <td>2.67</td>\n",
       "      <td>18.6</td>\n",
       "      <td>101</td>\n",
       "      <td>2.80</td>\n",
       "      <td>3.24</td>\n",
       "      <td>0.30</td>\n",
       "      <td>2.81</td>\n",
       "      <td>5.68</td>\n",
       "      <td>1.03</td>\n",
       "      <td>3.17</td>\n",
       "      <td>1185</td>\n",
       "    </tr>\n",
       "    <tr>\n",
       "      <th>2</th>\n",
       "      <td>1</td>\n",
       "      <td>14.37</td>\n",
       "      <td>1.95</td>\n",
       "      <td>2.50</td>\n",
       "      <td>16.8</td>\n",
       "      <td>113</td>\n",
       "      <td>3.85</td>\n",
       "      <td>3.49</td>\n",
       "      <td>0.24</td>\n",
       "      <td>2.18</td>\n",
       "      <td>7.80</td>\n",
       "      <td>0.86</td>\n",
       "      <td>3.45</td>\n",
       "      <td>1480</td>\n",
       "    </tr>\n",
       "    <tr>\n",
       "      <th>3</th>\n",
       "      <td>1</td>\n",
       "      <td>13.24</td>\n",
       "      <td>2.59</td>\n",
       "      <td>2.87</td>\n",
       "      <td>21.0</td>\n",
       "      <td>118</td>\n",
       "      <td>2.80</td>\n",
       "      <td>2.69</td>\n",
       "      <td>0.39</td>\n",
       "      <td>1.82</td>\n",
       "      <td>4.32</td>\n",
       "      <td>1.04</td>\n",
       "      <td>2.93</td>\n",
       "      <td>735</td>\n",
       "    </tr>\n",
       "    <tr>\n",
       "      <th>4</th>\n",
       "      <td>1</td>\n",
       "      <td>14.20</td>\n",
       "      <td>1.76</td>\n",
       "      <td>2.45</td>\n",
       "      <td>15.2</td>\n",
       "      <td>112</td>\n",
       "      <td>3.27</td>\n",
       "      <td>3.39</td>\n",
       "      <td>0.34</td>\n",
       "      <td>1.97</td>\n",
       "      <td>6.75</td>\n",
       "      <td>1.05</td>\n",
       "      <td>2.85</td>\n",
       "      <td>1450</td>\n",
       "    </tr>\n",
       "  </tbody>\n",
       "</table>\n",
       "</div>"
      ],
      "text/plain": [
       "   Class  Alcohol  Malic acid   Ash  Alcalinity of ash  Magnesium  \\\n",
       "0      1    13.20        1.78  2.14               11.2        100   \n",
       "1      1    13.16        2.36  2.67               18.6        101   \n",
       "2      1    14.37        1.95  2.50               16.8        113   \n",
       "3      1    13.24        2.59  2.87               21.0        118   \n",
       "4      1    14.20        1.76  2.45               15.2        112   \n",
       "\n",
       "   Total phenols  Flavanoids  Nonflavanoid phenols  Proanthocyanins  \\\n",
       "0           2.65        2.76                  0.26             1.28   \n",
       "1           2.80        3.24                  0.30             2.81   \n",
       "2           3.85        3.49                  0.24             2.18   \n",
       "3           2.80        2.69                  0.39             1.82   \n",
       "4           3.27        3.39                  0.34             1.97   \n",
       "\n",
       "   Color intensity   Hue  OD280/OD315 of diluted wines  Proline  \n",
       "0             4.38  1.05                          3.40     1050  \n",
       "1             5.68  1.03                          3.17     1185  \n",
       "2             7.80  0.86                          3.45     1480  \n",
       "3             4.32  1.04                          2.93      735  \n",
       "4             6.75  1.05                          2.85     1450  "
      ]
     },
     "execution_count": 7,
     "metadata": {},
     "output_type": "execute_result"
    }
   ],
   "source": [
    "# Damos nombre a las columnas, segun la informacion del archivo wine.names de la actividad\n",
    "nombres_columnas = ['Class','Alcohol','Malic acid','Ash','Alcalinity of ash','Magnesium','Total phenols','Flavanoids','Nonflavanoid phenols',\n",
    "\t\t\t\t\t'Proanthocyanins','Color intensity','Hue','OD280/OD315 of diluted wines','Proline']\n",
    "\n",
    "# Cargamos los nombres de columnas en el dataset\n",
    "data.columns = nombres_columnas\n",
    "\n",
    "# Ejecutamos la variable data para mostrar la información cargada\n",
    "data.head(5)"
   ]
  },
  {
   "cell_type": "markdown",
   "id": "f5cbe3ec",
   "metadata": {},
   "source": [
    "**Tomamos como variable objetivo el tipo o clase de vino que puede ser 1, 2 o 3**"
   ]
  },
  {
   "cell_type": "code",
   "execution_count": 19,
   "id": "eda79c3d",
   "metadata": {},
   "outputs": [
    {
     "data": {
      "text/plain": [
       "(array([58.,  0.,  0.,  0.,  0., 71.,  0.,  0.,  0., 48.]),\n",
       " array([1. , 1.2, 1.4, 1.6, 1.8, 2. , 2.2, 2.4, 2.6, 2.8, 3. ]),\n",
       " <BarContainer object of 10 artists>)"
      ]
     },
     "execution_count": 19,
     "metadata": {},
     "output_type": "execute_result"
    },
    {
     "data": {
      "image/png": "[encoded data removed]",
      "text/plain": [
       "<Figure size 640x480 with 1 Axes>"
      ]
     },
     "metadata": {},
     "output_type": "display_data"
    }
   ],
   "source": [
    "# Graficamos el histograma de la variable objetivo para verificar la cantidad de elementos de cada clase\n",
    "plt.hist(data.Class)"
   ]
  },
  {
   "cell_type": "code",
   "execution_count": 20,
   "id": "0e32ec08",
   "metadata": {},
   "outputs": [],
   "source": [
    "# Determinarmos los predictores a utilizar que corresponde a las columnas del dataset exepto la columna de clase \n",
    "predictors_col = [\"Alcohol\",\"Malic acid\",\"Ash\",\"Alcalinity of ash\",\"Magnesium\",\"Total phenols\",\"Flavanoids\",\"Nonflavanoid phenols\",\n",
    "\t\t\t    \"Proanthocyanins\",\"Color intensity\",\"Hue\",\"OD280/OD315 of diluted wines\",\"Proline\"]\n",
    "target_col = ['Class']"
   ]
  },
  {
   "cell_type": "code",
   "execution_count": 21,
   "id": "5e2ee7e0",
   "metadata": {},
   "outputs": [],
   "source": [
    "# Creamos dos variables para almacenar la información de los predictores y de la variable objetivo, dividiendo el dataset en dos\n",
    "predictors = data[predictors_col]\n",
    "target = data[target_col]"
   ]
  },
  {
   "cell_type": "code",
   "execution_count": 52,
   "id": "a8077deb",
   "metadata": {},
   "outputs": [],
   "source": [
    "# Entrenamos el modelo para evaluar las predicciones, utilizando un 80% en el entrenamiento y dejando un 20% para el test\n",
    "X_train, X_test, y_train, y_test = train_test_split(predictors, target, test_size=0.2, random_state=13)"
   ]
  },
  {
   "cell_type": "code",
   "execution_count": 53,
   "id": "e1d624b9",
   "metadata": {},
   "outputs": [],
   "source": [
    "# Creamos el árbol de decisiones\n",
    "tree = DecisionTreeClassifier()"
   ]
  },
  {
   "cell_type": "code",
   "execution_count": 54,
   "id": "926fd9b7",
   "metadata": {},
   "outputs": [],
   "source": [
    "# Entrenamos el árbol de decisión con base al entrenamiento de nuestras predicciones y almacenamos el resultado en la variable arbol\n",
    "arbol = tree.fit(X_train, y_train)"
   ]
  },
  {
   "cell_type": "code",
   "execution_count": 55,
   "id": "c9597815",
   "metadata": {},
   "outputs": [
    {
     "data": {
      "text/plain": [
       "[Text(0.4583333333333333, 0.875, 'x[9] <= 3.82\\ngini = 0.659\\nsamples = 141\\nvalue = [46, 56, 39]'),\n",
       " Text(0.25, 0.625, 'x[12] <= 1002.5\\ngini = 0.113\\nsamples = 50\\nvalue = [3, 47, 0]'),\n",
       " Text(0.16666666666666666, 0.375, 'x[2] <= 3.07\\ngini = 0.041\\nsamples = 48\\nvalue = [1, 47, 0]'),\n",
       " Text(0.08333333333333333, 0.125, 'gini = 0.0\\nsamples = 47\\nvalue = [0, 47, 0]'),\n",
       " Text(0.25, 0.125, 'gini = 0.0\\nsamples = 1\\nvalue = [1, 0, 0]'),\n",
       " Text(0.3333333333333333, 0.375, 'gini = 0.0\\nsamples = 2\\nvalue = [2, 0, 0]'),\n",
       " Text(0.6666666666666666, 0.625, 'x[6] <= 1.58\\ngini = 0.583\\nsamples = 91\\nvalue = [43, 9, 39]'),\n",
       " Text(0.5, 0.375, 'x[2] <= 2.06\\ngini = 0.049\\nsamples = 40\\nvalue = [0, 1, 39]'),\n",
       " Text(0.4166666666666667, 0.125, 'gini = 0.0\\nsamples = 1\\nvalue = [0, 1, 0]'),\n",
       " Text(0.5833333333333334, 0.125, 'gini = 0.0\\nsamples = 39\\nvalue = [0, 0, 39]'),\n",
       " Text(0.8333333333333334, 0.375, 'x[12] <= 697.5\\ngini = 0.265\\nsamples = 51\\nvalue = [43, 8, 0]'),\n",
       " Text(0.75, 0.125, 'gini = 0.0\\nsamples = 8\\nvalue = [0, 8, 0]'),\n",
       " Text(0.9166666666666666, 0.125, 'gini = 0.0\\nsamples = 43\\nvalue = [43, 0, 0]')]"
      ]
     },
     "execution_count": 55,
     "metadata": {},
     "output_type": "execute_result"
    },
    {
     "data": {
      "image/png": "[encoded data removed]",
      "text/plain": [
       "<Figure size 640x480 with 1 Axes>"
      ]
     },
     "metadata": {},
     "output_type": "display_data"
    }
   ],
   "source": [
    "# Graficamos el árbol creado y previamente entrenado\n",
    "plot_tree(arbol)"
   ]
  },
  {
   "cell_type": "code",
   "execution_count": 56,
   "id": "2999de3f",
   "metadata": {},
   "outputs": [],
   "source": [
    "# Realizamos las predcciones sobre el 20% faltante que dejamos para realizar el test\n",
    "predicciones = arbol.predict(X_test)"
   ]
  },
  {
   "cell_type": "code",
   "execution_count": 57,
   "id": "fb145f53",
   "metadata": {},
   "outputs": [
    {
     "data": {
      "text/html": [
       "<div>\n",
       "<style scoped>\n",
       "    .dataframe tbody tr th:only-of-type {\n",
       "        vertical-align: middle;\n",
       "    }\n",
       "\n",
       "    .dataframe tbody tr th {\n",
       "        vertical-align: top;\n",
       "    }\n",
       "\n",
       "    .dataframe thead th {\n",
       "        text-align: right;\n",
       "    }\n",
       "</style>\n",
       "<table border=\"1\" class=\"dataframe\">\n",
       "  <thead>\n",
       "    <tr style=\"text-align: right;\">\n",
       "      <th>Predicciones</th>\n",
       "      <th>1</th>\n",
       "      <th>2</th>\n",
       "      <th>3</th>\n",
       "    </tr>\n",
       "    <tr>\n",
       "      <th>Actual</th>\n",
       "      <th></th>\n",
       "      <th></th>\n",
       "      <th></th>\n",
       "    </tr>\n",
       "  </thead>\n",
       "  <tbody>\n",
       "    <tr>\n",
       "      <th>1</th>\n",
       "      <td>10</td>\n",
       "      <td>2</td>\n",
       "      <td>0</td>\n",
       "    </tr>\n",
       "    <tr>\n",
       "      <th>2</th>\n",
       "      <td>1</td>\n",
       "      <td>14</td>\n",
       "      <td>0</td>\n",
       "    </tr>\n",
       "    <tr>\n",
       "      <th>3</th>\n",
       "      <td>0</td>\n",
       "      <td>0</td>\n",
       "      <td>9</td>\n",
       "    </tr>\n",
       "  </tbody>\n",
       "</table>\n",
       "</div>"
      ],
      "text/plain": [
       "Predicciones   1   2  3\n",
       "Actual                 \n",
       "1             10   2  0\n",
       "2              1  14  0\n",
       "3              0   0  9"
      ]
     },
     "execution_count": 57,
     "metadata": {},
     "output_type": "execute_result"
    }
   ],
   "source": [
    "# Examinamos la matriz de confusión para evaluar las predicciones realizadas y verificar la exactitud\n",
    "pd.crosstab(np.array([y[0] for y in y_test.values.tolist()]), predicciones, rownames=['Actual'], colnames=['Predicciones'])"
   ]
  },
  {
   "cell_type": "code",
   "execution_count": 58,
   "id": "897f40a0",
   "metadata": {},
   "outputs": [
    {
     "data": {
      "text/plain": [
       "0.9166666666666666"
      ]
     },
     "execution_count": 58,
     "metadata": {},
     "output_type": "execute_result"
    }
   ],
   "source": [
    "# Con la medida de acurracy comparamos las predicciones con el valor real del dataset para verificar la exactitud del modelo realizado\n",
    "accuracy = accuracy_score(y_test,predicciones)\n",
    "accuracy"
   ]
  },
  {
   "cell_type": "markdown",
   "id": "98e620b8",
   "metadata": {},
   "source": [
    "**Conclusiones**\n",
    "\n",
    "1. El modelo realizado nos representa un 91% de exactitud de acuerdo al procentaje de entrenamiento y test que utilizamos, en este caso 80% de entrenamiento y 20% de test.\n",
    "\n",
    "2. De acuerdo a los porcentajes de entrenamiento podemos concluir que entre más porcentaje de entrenamiento asignemos mayor exactitud en las predicciones tendra el modelo realizado.\n",
    "\n",
    "3. Observando la gráfica podemos deducir que la probabilidad de que una persona padezca de diabetes, comienza a aumentar cuanto los niveles de glucosa están aproximadamente sobre 140 en adelante, pues en este punto la probabilidad es de 0.49.\n"
   ]
  }
 ],
 "metadata": {
  "kernelspec": {
   "display_name": "Python 3 (ipykernel)",
   "language": "python",
   "name": "python3"
  },
  "language_info": {
   "codemirror_mode": {
    "name": "ipython",
    "version": 3
   },
   "file_extension": ".py",
   "mimetype": "text/x-python",
   "name": "python",
   "nbconvert_exporter": "python",
   "pygments_lexer": "ipython3",
   "version": "3.11.4"
  }
 },
 "nbformat": 4,
 "nbformat_minor": 5
}
